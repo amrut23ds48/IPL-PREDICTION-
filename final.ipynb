{
 "cells": [
  {
   "cell_type": "code",
   "execution_count": 14,
   "id": "ef5db21d-1908-4110-8e60-6d803bbff382",
   "metadata": {},
   "outputs": [
    {
     "name": "stdout",
     "output_type": "stream",
     "text": [
      "Accuracy: 0.69\n"
     ]
    }
   ],
   "source": [
    "import pandas as pd\n",
    "from sklearn.model_selection import train_test_split\n",
    "from sklearn.ensemble import RandomForestClassifier\n",
    "from sklearn.metrics import accuracy_score\n",
    "\n",
    "# Load the dataset\n",
    "df = pd.read_csv(\"merge_csv.csv\")\n",
    "df = df[df['venue'] != 'OUT']\n",
    "# Drop unnecessary columns\n",
    "columns_to_drop = ['mvp']\n",
    "df = df.drop(columns=columns_to_drop)\n",
    "\n",
    "# Split features and labels\n",
    "X = df.iloc[:, :-1]\n",
    "y = df.iloc[:, -1]\n",
    "\n",
    "# Convert categorical features to numerical using One-Hot Encoding\n",
    "X = pd.get_dummies(X)\n",
    "\n",
    "# Split into train and test sets\n",
    "X_train, X_test, y_train, y_test = train_test_split(X, y, test_size=0.25, random_state=42)\n",
    "\n",
    "# Initialize RandomForestClassifier with tuned hyperparameters\n",
    "model = RandomForestClassifier(\n",
    "    n_estimators=100,       # Increase number of trees\n",
    "    max_depth=12,           # Limit tree depth to prevent overfitting\n",
    "    min_samples_split=3,    # Minimum samples required to split a node\n",
    "    min_samples_leaf=2,     # Minimum samples per leaf\n",
    "    max_features='sqrt',    # Number of features considered at each split\n",
    "    class_weight='balanced',# Handle class imbalance\n",
    "    random_state=42\n",
    ")\n",
    "\n",
    "# Train the model\n",
    "model.fit(X_train, y_train)\n",
    "\n",
    "# Make predictions\n",
    "y_pred = model.predict(X_test)\n",
    "\n",
    "# Calculate accuracy\n",
    "accuracy = accuracy_score(y_test, y_pred)\n",
    "print(f'Accuracy: {accuracy:.2f}')"
   ]
  },
  {
   "cell_type": "code",
   "execution_count": null,
   "id": "a870d07d-0dec-4fd5-aae6-d83945095b9b",
   "metadata": {},
   "outputs": [],
   "source": []
  },
  {
   "cell_type": "code",
   "execution_count": null,
   "id": "6d3afd9c-aea3-444f-bc42-bf5d7ac7fc1d",
   "metadata": {},
   "outputs": [],
   "source": []
  },
  {
   "cell_type": "code",
   "execution_count": null,
   "id": "c785adab-3089-4fdd-a1ed-66fb105a41d1",
   "metadata": {},
   "outputs": [],
   "source": []
  }
 ],
 "metadata": {
  "kernelspec": {
   "display_name": "Python [conda env:base] *",
   "language": "python",
   "name": "conda-base-py"
  },
  "language_info": {
   "codemirror_mode": {
    "name": "ipython",
    "version": 3
   },
   "file_extension": ".py",
   "mimetype": "text/x-python",
   "name": "python",
   "nbconvert_exporter": "python",
   "pygments_lexer": "ipython3",
   "version": "3.12.7"
  }
 },
 "nbformat": 4,
 "nbformat_minor": 5
}
